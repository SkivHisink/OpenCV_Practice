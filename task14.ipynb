{
 "cells": [
  {
   "cell_type": "code",
   "execution_count": 1,
   "metadata": {},
   "outputs": [],
   "source": [
    "import cv2 as cv\n",
    "import numpy as np\n",
    "import random"
   ]
  },
  {
   "cell_type": "code",
   "execution_count": 2,
   "metadata": {},
   "outputs": [],
   "source": [
    "img = cv.imread(\"test.png\")\n",
    "win = cv.imread(\"win.png\")\n",
    "number_list = []\n",
    "number_list.append(cv.imread(\"0.jpg\", 0))\n",
    "number_list.append(cv.imread(\"1.jpg\", 0))\n",
    "number_list.append(cv.imread(\"2.jpg\", 0))\n",
    "number_list.append(cv.imread(\"3.jpg\", 0))\n",
    "number_list.append(cv.imread(\"4.jpg\", 0))\n",
    "number_list.append(cv.imread(\"5.jpg\", 0))\n",
    "number_list.append(cv.imread(\"6.jpg\", 0))\n",
    "number_list.append(cv.imread(\"7.jpg\", 0))\n",
    "number_list.append(cv.imread(\"8.jpg\", 0))\n",
    "number_list.append(cv.imread(\"9.jpg\", 0))\n",
    "imageGray = cv.cvtColor(img, cv.COLOR_BGR2GRAY)\n",
    "result_ = np.copy(img)"
   ]
  },
  {
   "cell_type": "code",
   "execution_count": 1,
   "metadata": {},
   "outputs": [],
   "source": [
    "import cv2 as cv\n",
    "import numpy as np\n",
    "import random\n",
    "from functools import cmp_to_key\n",
    "time_region_width = 40\n",
    "\n",
    "class Number_container:\n",
    "    def __init__(self, number, box, isColon = False):\n",
    "        self.number = number\n",
    "        self.box = box\n",
    "        self.isColon = isColon\n",
    "\n",
    "def find_region(method, img, template):\n",
    "    w = template.shape[::-1][0]\n",
    "    h = template.shape[::-1][1]\n",
    "    res = cv.matchTemplate(img, template, method)\n",
    "    _, _, _, max_loc = cv.minMaxLoc(res)\n",
    "    return max_loc, (max_loc[0] + w, max_loc[1] + h), res\n",
    "\n",
    "def find_boxes(method, img, template, threshold = 0.9):\n",
    "    w = template.shape[::-1][0]\n",
    "    h = template.shape[::-1][1]\n",
    "    res = cv.matchTemplate(img, template, method)\n",
    "    detected_boxes = []\n",
    "    loc = np.where(res >= threshold)\n",
    "    for pt in zip(*loc[::-1]):\n",
    "        detected_boxes.append((pt, (pt[0] + w, pt[1] + h)))\n",
    "    return detected_boxes\n",
    "\n",
    "def box_center(box):\n",
    "    return (box[0][0] + box[1][0]) * 0.5\n",
    "\n",
    "def box_compare(item1, item2):\n",
    "    if box_center(item1.box) < box_center(item2.box):\n",
    "        return -1\n",
    "    elif box_center(item1.box) > box_center(item2.box):\n",
    "        return 1\n",
    "    else:\n",
    "        return 0\n",
    "   "
   ]
  },
  {
   "cell_type": "code",
   "execution_count": 4,
   "metadata": {},
   "outputs": [],
   "source": [
    "image = cv.imread('489.jpg')\n",
    "img = cv.cvtColor(image, cv.COLOR_BGR2GRAY)\n",
    "template = cv.imread('win.jpg', 0)\n",
    "colon_template = cv.imread('dev.jpg', 0)\n",
    "method = eval('cv.TM_CCOEFF_NORMED')"
   ]
  },
  {
   "cell_type": "code",
   "execution_count": 5,
   "metadata": {},
   "outputs": [],
   "source": [
    "top_left, bottom_right, _ = find_region(method, img, template)\n",
    "time_region = img[top_left[1] : bottom_right[1], bottom_right[0] : bottom_right[0] + time_region_width]"
   ]
  },
  {
   "cell_type": "code",
   "execution_count": 6,
   "metadata": {},
   "outputs": [],
   "source": [
    "founded_number = []\n",
    "for idx, number in enumerate(number_list):\n",
    "    boxes = find_boxes(method, time_region, number)\n",
    "    for box in boxes:\n",
    "        founded_number.append(Number_container(idx, box))\n",
    "boxes = find_boxes(method, time_region, colon_template)\n",
    "for box in boxes:\n",
    "   founded_number.append(Number_container(-1, box, True))\n",
    "founded_number = sorted(founded_number, key=cmp_to_key(box_compare))\n",
    "time = ''\n",
    "for number in founded_number:\n",
    "     if (number.isColon):\n",
    "        time += ':'\n",
    "     else:\n",
    "        time += str(number.number)"
   ]
  },
  {
   "cell_type": "code",
   "execution_count": 7,
   "metadata": {},
   "outputs": [
    {
     "name": "stdout",
     "output_type": "stream",
     "text": [
      "38:49\n"
     ]
    }
   ],
   "source": [
    "print(time)\n",
    "cv.imshow(\"result\", time_region)\n",
    "cv.imshow(\"img\", image)\n",
    "cv.waitKey(0)\n",
    "cv.destroyAllWindows()"
   ]
  },
  {
   "cell_type": "markdown",
   "metadata": {},
   "source": [
    "# Через сайт"
   ]
  },
  {
   "cell_type": "code",
   "execution_count": 2,
   "metadata": {},
   "outputs": [],
   "source": [
    "import numpy as np\n",
    "import requests\n",
    "from bs4 import BeautifulSoup\n",
    "import urllib\n",
    "import numpy as np\n",
    "from imutils import contours\n",
    "import matplotlib.pyplot as plt\n",
    "from functools import cmp_to_key\n",
    "import cv2 as cv\n",
    "\n",
    "\n",
    "def scaleImg(image, scale: float):\n",
    "    width, height = image.shape[1], image.shape[0]\n",
    "    return cv.resize(image, (int(width * scale), int(height * scale)))\n",
    "\n",
    "\n",
    "def clipImg(image, max_size, filter=cv.INTER_CUBIC):\n",
    "    width, height = image.shape[1], image.shape[0]\n",
    "    max_dim = max(width, height)\n",
    "    ratio = float(max_size) / max_dim\n",
    "    return cv.resize(image, (int(width*ratio), int(height*ratio)), interpolation=filter)\n",
    "time_region_width = 40\n",
    "\n",
    "def math_time(image):\n",
    "    img = cv.cvtColor(image, cv.COLOR_BGR2GRAY)\n",
    "    # where to find match time\n",
    "    template = cv.imread('win.jpg', 0)\n",
    "    # seems to work 'OK'\n",
    "    method = eval('cv.TM_CCOEFF_NORMED')\n",
    "    top_left, bottom_right, _ = find_region(method, img, template)\n",
    "    time_region = img[top_left[1]:bottom_right[1], bottom_right[0]:bottom_right[0] + time_region_width]\n",
    "    # numeric templates\n",
    "    numbers = []\n",
    "    for i in range(10):\n",
    "        numbers.append(cv.imread('' + str(i) + '.jpg', 0))\n",
    "    colon_template = cv.imread('dev.jpg', 0)\n",
    "    registered_numbers = []\n",
    "    for idx, number in enumerate(numbers):\n",
    "        boxes = find_boxes(method, time_region, number)\n",
    "        for box in boxes:\n",
    "            registered_numbers.append(Number_container(idx, box))\n",
    "    boxes = find_boxes(method, time_region, colon_template)\n",
    "    for box in boxes:\n",
    "        registered_numbers.append(Number_container(-1, box, True))\n",
    "    registered_numbers = sorted(registered_numbers, key=cmp_to_key(box_compare))\n",
    "    time = ''\n",
    "    for num in registered_numbers:\n",
    "        time += ':' if num.isColon else str(num.number)\n",
    "    return time, time_region, registered_numbers\n",
    "\n",
    "def match_time_id(id, game_num=1):\n",
    "    headers = {'content-type': 'application/x-www-form-urlencoded; charset=UTF-8', 'x-requested-with': 'XMLHttpRequest'}\n",
    "    raw_data = 'game=&rid=matches&ajax=block_video&data%5Bid%5D=' + str(id) + '&data%5Bnum%5D=' + str(game_num)\n",
    "    page = requests.post(\"https://game-tournaments.com/\", headers=headers, data=raw_data)\n",
    "    soup = BeautifulSoup(page.content, \"html.parser\")\n",
    "    job_elements = soup.find_all(\"a\", class_=\"g-rezults\")\n",
    "    address = job_elements[0][\"href\"]\n",
    "    image_url = 'https://en.game-tournaments.com' + address\n",
    "    page = requests.get(image_url) \n",
    "    image = np.asarray(bytearray(page.content), dtype=\"uint8\")\n",
    "    image = cv.imdecode(image, cv.IMREAD_COLOR)\n",
    "    time, region, boxes = math_time(image)\n",
    "    image = cv.resize(image, (1524, 520))\n",
    "    return time, region, boxes, image\n",
    "\n",
    "def match_time_number(number, game=1):\n",
    "    page = np.int(number / 20) + 1\n",
    "    idx = number % 20\n",
    "    print(page)\n",
    "    page_url = \"https://game-tournaments.com/dota-2/matches\"\n",
    "    headers = {'content-type': 'application/x-www-form-urlencoded; charset=UTF-8', 'x-requested-with': 'XMLHttpRequest'}\n",
    "    raw_data = 'game=dota-2&rid=matches&ajax=block_matches_past&data%5Bs%5D=' + str(\n",
    "        page) + '&data%5Btype%5D=gg&data%5Bscore%5D=0'\n",
    "    page = requests.post(page_url, headers=headers, data=raw_data)\n",
    "    soup = BeautifulSoup(page.content, \"html.parser\")\n",
    "    job_elements = soup.find_all(\"span\", class_='mbutton tresult')\n",
    "    id = job_elements[idx][\"data-mid\"]\n",
    "    print(id)\n",
    "\n",
    "    return match_time_id(id, game)"
   ]
  },
  {
   "cell_type": "code",
   "execution_count": 7,
   "metadata": {},
   "outputs": [
    {
     "name": "stderr",
     "output_type": "stream",
     "text": [
      "C:\\Users\\Skiv2\\AppData\\Roaming\\Python\\Python37\\site-packages\\ipykernel_launcher.py:67: DeprecationWarning: `np.int` is a deprecated alias for the builtin `int`. To silence this warning, use `int` by itself. Doing this will not modify any behavior and is safe. When replacing `np.int`, you may wish to use e.g. `np.int64` or `np.int32` to specify the precision. If you wish to review your current use, check the release note link for additional information.\n",
      "Deprecated in NumPy 1.20; for more details and guidance: https://numpy.org/devdocs/release/1.20.0-notes.html#deprecations\n"
     ]
    },
    {
     "name": "stdout",
     "output_type": "stream",
     "text": [
      "2\n",
      "418042\n",
      "35:54\n"
     ]
    }
   ],
   "source": [
    "id = 25\n",
    "time, region, boxes, img = match_time_number(id)\n",
    "canvas = cv.cvtColor(region, cv.COLOR_GRAY2BGR)\n",
    "for box in boxes:\n",
    "    cv.rectangle(canvas, box.box[0], box.box[1], (200, 20, 20))\n",
    "canvas = clipImg(canvas, 500, cv.INTER_NEAREST)\n",
    "print(time)"
   ]
  },
  {
   "cell_type": "code",
   "execution_count": 4,
   "metadata": {},
   "outputs": [],
   "source": [
    "cv.imshow('time', canvas)\n",
    "cv.imshow('img', img)\n",
    "cv.waitKey(0)\n",
    "cv.destroyAllWindows()"
   ]
  },
  {
   "cell_type": "code",
   "execution_count": null,
   "metadata": {},
   "outputs": [],
   "source": []
  }
 ],
 "metadata": {
  "interpreter": {
   "hash": "2327af787681097595093de7f2aa80bedc469c7dd705939aa5309cd22b5cf295"
  },
  "kernelspec": {
   "display_name": "Python 3.9.5 64-bit",
   "language": "python",
   "name": "python3"
  },
  "language_info": {
   "codemirror_mode": {
    "name": "ipython",
    "version": 3
   },
   "file_extension": ".py",
   "mimetype": "text/x-python",
   "name": "python",
   "nbconvert_exporter": "python",
   "pygments_lexer": "ipython3",
   "version": "3.7.8"
  },
  "orig_nbformat": 4
 },
 "nbformat": 4,
 "nbformat_minor": 2
}
