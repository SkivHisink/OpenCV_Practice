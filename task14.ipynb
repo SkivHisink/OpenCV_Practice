{
 "cells": [
  {
   "cell_type": "code",
   "execution_count": 1,
   "metadata": {},
   "outputs": [],
   "source": [
    "import cv2 as cv\n",
    "import numpy as np\n",
    "import random"
   ]
  },
  {
   "cell_type": "code",
   "execution_count": 2,
   "metadata": {},
   "outputs": [],
   "source": [
    "img = cv.imread(\"test.png\")\n",
    "win = cv.imread(\"win.png\")\n",
    "number_list = []\n",
    "number_list.append(cv.imread(\"0.jpg\", 0))\n",
    "number_list.append(cv.imread(\"1.jpg\", 0))\n",
    "number_list.append(cv.imread(\"2.jpg\", 0))\n",
    "number_list.append(cv.imread(\"3.jpg\", 0))\n",
    "number_list.append(cv.imread(\"4.jpg\", 0))\n",
    "number_list.append(cv.imread(\"5.jpg\", 0))\n",
    "number_list.append(cv.imread(\"6.jpg\", 0))\n",
    "number_list.append(cv.imread(\"7.jpg\", 0))\n",
    "number_list.append(cv.imread(\"8.jpg\", 0))\n",
    "number_list.append(cv.imread(\"9.jpg\", 0))\n",
    "imageGray = cv.cvtColor(img, cv.COLOR_BGR2GRAY)\n",
    "result_ = np.copy(img)"
   ]
  },
  {
   "cell_type": "code",
   "execution_count": 3,
   "metadata": {},
   "outputs": [],
   "source": [
    "import cv2 as cv\n",
    "import numpy as np\n",
    "import random\n",
    "from functools import cmp_to_key\n",
    "time_region_width = 40\n",
    "\n",
    "class Number_container:\n",
    "    def __init__(self, number, box, isColon = False):\n",
    "        self.number = number\n",
    "        self.box = box\n",
    "        self.isColon = isColon\n",
    "\n",
    "def find_region(method, img, template):\n",
    "    w = template.shape[::-1][0]\n",
    "    h = template.shape[::-1][1]\n",
    "    res = cv.matchTemplate(img, template, method)\n",
    "    _, _, _, max_loc = cv.minMaxLoc(res)\n",
    "    return max_loc, (max_loc[0] + w, max_loc[1] + h), res\n",
    "\n",
    "def find_boxes(method, img, template, threshold = 0.9):\n",
    "    w = template.shape[::-1][0]\n",
    "    h = template.shape[::-1][1]\n",
    "    res = cv.matchTemplate(img, template, method)\n",
    "    detected_boxes = []\n",
    "    loc = np.where(res >= threshold)\n",
    "    for pt in zip(*loc[::-1]):\n",
    "        detected_boxes.append((pt, (pt[0] + w, pt[1] + h)))\n",
    "    return detected_boxes\n",
    "\n",
    "def box_center(box):\n",
    "    return (box[0][0] + box[1][0]) * 0.5\n",
    "\n",
    "def box_compare(item1, item2):\n",
    "    if box_center(item1.box) < box_center(item2.box):\n",
    "        return -1\n",
    "    elif box_center(item1.box) > box_center(item2.box):\n",
    "        return 1\n",
    "    else:\n",
    "        return 0\n",
    "   "
   ]
  },
  {
   "cell_type": "code",
   "execution_count": 4,
   "metadata": {},
   "outputs": [],
   "source": [
    "image = cv.imread('489.jpg')\n",
    "img = cv.cvtColor(image, cv.COLOR_BGR2GRAY)\n",
    "template = cv.imread('win.jpg', 0)\n",
    "colon_template = cv.imread('dev.jpg', 0)\n",
    "method = eval('cv.TM_CCOEFF_NORMED')"
   ]
  },
  {
   "cell_type": "code",
   "execution_count": 5,
   "metadata": {},
   "outputs": [],
   "source": [
    "top_left, bottom_right, _ = find_region(method, img, template)\n",
    "time_region = img[top_left[1] : bottom_right[1], bottom_right[0] : bottom_right[0] + time_region_width]"
   ]
  },
  {
   "cell_type": "code",
   "execution_count": 6,
   "metadata": {},
   "outputs": [],
   "source": [
    "founded_number = []\n",
    "for idx, number in enumerate(number_list):\n",
    "    boxes = find_boxes(method, time_region, number)\n",
    "    for box in boxes:\n",
    "        founded_number.append(Number_container(idx, box))\n",
    "boxes = find_boxes(method, time_region, colon_template)\n",
    "for box in boxes:\n",
    "   founded_number.append(Number_container(-1, box, True))\n",
    "founded_number = sorted(founded_number, key=cmp_to_key(box_compare))\n",
    "time = ''\n",
    "for number in founded_number:\n",
    "     if (number.isColon):\n",
    "        time += ':'\n",
    "     else:\n",
    "        time += str(number.number)"
   ]
  },
  {
   "cell_type": "code",
   "execution_count": 7,
   "metadata": {},
   "outputs": [
    {
     "name": "stdout",
     "output_type": "stream",
     "text": [
      "38:49\n"
     ]
    }
   ],
   "source": [
    "print(time)\n",
    "cv.imshow(\"result\", time_region)\n",
    "cv.imshow(\"img\", image)\n",
    "cv.waitKey(0)\n",
    "cv.destroyAllWindows()"
   ]
  },
  {
   "cell_type": "code",
   "execution_count": null,
   "metadata": {},
   "outputs": [],
   "source": []
  }
 ],
 "metadata": {
  "interpreter": {
   "hash": "2327af787681097595093de7f2aa80bedc469c7dd705939aa5309cd22b5cf295"
  },
  "kernelspec": {
   "display_name": "Python 3.9.5 64-bit",
   "language": "python",
   "name": "python3"
  },
  "language_info": {
   "codemirror_mode": {
    "name": "ipython",
    "version": 3
   },
   "file_extension": ".py",
   "mimetype": "text/x-python",
   "name": "python",
   "nbconvert_exporter": "python",
   "pygments_lexer": "ipython3",
   "version": "3.7.8"
  },
  "orig_nbformat": 4
 },
 "nbformat": 4,
 "nbformat_minor": 2
}
